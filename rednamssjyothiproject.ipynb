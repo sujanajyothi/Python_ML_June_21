{
  "nbformat": 4,
  "nbformat_minor": 0,
  "metadata": {
    "colab": {
      "name": "rednamssjyothiproject.ipynb",
      "provenance": [],
      "collapsed_sections": []
    },
    "kernelspec": {
      "name": "python3",
      "display_name": "Python 3"
    },
    "language_info": {
      "name": "python"
    }
  },
  "cells": [
    {
      "cell_type": "code",
      "metadata": {
        "id": "hKN_grhQi1W3"
      },
      "source": [
        "\n",
        "import pandas as pd\n",
        "import numpy as np\n",
        "import matplotlib.pyplot as plt\n",
        "from sklearn import datasets"
      ],
      "execution_count": 1,
      "outputs": []
    },
    {
      "cell_type": "code",
      "metadata": {
        "id": "OqD5eXmKjMqb"
      },
      "source": [
        "# Take make moons in built dataset\n",
        "\n",
        "data_ =datasets.make_moons(100)"
      ],
      "execution_count": 17,
      "outputs": []
    },
    {
      "cell_type": "code",
      "metadata": {
        "colab": {
          "base_uri": "https://localhost:8080/"
        },
        "id": "BZJD3O6pkB4F",
        "outputId": "60816c47-3464-49a3-d64b-da7422a10864"
      },
      "source": [
        "data_"
      ],
      "execution_count": 18,
      "outputs": [
        {
          "output_type": "execute_result",
          "data": {
            "text/plain": [
              "(array([[-9.49055747e-01,  3.15108218e-01],\n",
              "        [ 6.23489802e-01,  7.81831482e-01],\n",
              "        [ 9.67294863e-01,  2.53654584e-01],\n",
              "        [ 2.22520934e-01,  9.74927912e-01],\n",
              "        [ 1.76144596e+00, -1.48228395e-01],\n",
              "        [ 1.59599895e-01,  9.87181783e-01],\n",
              "        [ 1.98155916e+00,  3.08841371e-01],\n",
              "        [ 1.80141362e+00, -9.81105305e-02],\n",
              "        [ 2.38554042e-01, -1.48228395e-01],\n",
              "        [ 5.95216657e-01, -4.14412623e-01],\n",
              "        [ 9.00968868e-01,  4.33883739e-01],\n",
              "        [ 9.91790014e-01,  1.27877162e-01],\n",
              "        [ 9.60230259e-02,  9.95379113e-01],\n",
              "        [ 1.94905575e+00,  1.84891782e-01],\n",
              "        [-8.38088105e-01,  5.45534901e-01],\n",
              "        [-9.67294863e-01,  2.53654584e-01],\n",
              "        [ 1.71834935e+00, -1.95682551e-01],\n",
              "        [-6.72300890e-01,  7.40277997e-01],\n",
              "        [ 9.67948422e-01, -4.99486216e-01],\n",
              "        [ 1.00000000e+00,  0.00000000e+00],\n",
              "        [ 4.27883340e-01, -3.20172255e-01],\n",
              "        [ 2.00000000e+00,  5.00000000e-01],\n",
              "        [ 1.46253829e+00, -3.86599306e-01],\n",
              "        [ 7.18349350e-01,  6.95682551e-01],\n",
              "        [-9.00968868e-01,  4.33883739e-01],\n",
              "        [ 1.22252093e+00, -4.74927912e-01],\n",
              "        [ 8.38088105e-01,  5.45534901e-01],\n",
              "        [ 2.05460725e-03,  4.35929780e-01],\n",
              "        [-2.22520934e-01,  9.74927912e-01],\n",
              "        [-4.04783343e-01,  9.14412623e-01],\n",
              "        [ 4.81607432e-01, -3.55142763e-01],\n",
              "        [ 2.81650650e-01, -1.95682551e-01],\n",
              "        [ 1.83808810e+00, -4.55349012e-02],\n",
              "        [ 1.03205158e+00, -4.99486216e-01],\n",
              "        [ 1.28452759e+00, -4.58667853e-01],\n",
              "        [ 5.18392568e-01,  8.55142763e-01],\n",
              "        [-7.18349350e-01,  6.95682551e-01],\n",
              "        [ 1.99179001e+00,  3.72122838e-01],\n",
              "        [ 7.30832427e-02,  1.24732995e-01],\n",
              "        [ 1.99794539e+00,  4.35929780e-01],\n",
              "        [ 1.84408430e-02,  3.08841371e-01],\n",
              "        [ 9.26916757e-01,  3.75267005e-01],\n",
              "        [-1.59599895e-01,  9.87181783e-01],\n",
              "        [ 3.76510198e-01, -2.81831482e-01],\n",
              "        [ 5.72116660e-01,  8.20172255e-01],\n",
              "        [ 3.45365054e-01,  9.38468422e-01],\n",
              "        [ 7.77479066e-01, -4.74927912e-01],\n",
              "        [ 1.98586378e-01, -9.81105305e-02],\n",
              "        [ 1.51839257e+00, -3.55142763e-01],\n",
              "        [ 6.54634946e-01, -4.38468422e-01],\n",
              "        [ 1.57211666e+00, -3.20172255e-01],\n",
              "        [ 8.71318704e-01,  4.90717552e-01],\n",
              "        [ 1.34536505e+00, -4.38468422e-01],\n",
              "        [ 4.62538290e-01,  8.86599306e-01],\n",
              "        [ 7.15472413e-01, -4.58667853e-01],\n",
              "        [ 1.62348980e+00, -2.81831482e-01],\n",
              "        [ 1.67230089e+00, -2.40277997e-01],\n",
              "        [ 1.87131870e+00,  9.28244800e-03],\n",
              "        [-3.20515776e-02,  9.99486216e-01],\n",
              "        [-9.81559157e-01,  1.91158629e-01],\n",
              "        [ 5.37461710e-01, -3.86599306e-01],\n",
              "        [ 3.20515776e-02,  9.99486216e-01],\n",
              "        [-9.91790014e-01,  1.27877162e-01],\n",
              "        [ 1.90096887e+00,  6.61162609e-02],\n",
              "        [-7.61445958e-01,  6.48228395e-01],\n",
              "        [ 1.61911895e-01, -4.55349012e-02],\n",
              "        [ 8.40400105e-01, -4.87181783e-01],\n",
              "        [-9.97945393e-01,  6.40702200e-02],\n",
              "        [ 2.84527587e-01,  9.58667853e-01],\n",
              "        [-5.72116660e-01,  8.20172255e-01],\n",
              "        [ 3.27699110e-01, -2.40277997e-01],\n",
              "        [ 1.28681296e-01,  9.28244800e-03],\n",
              "        [ 4.04783343e-01,  9.14412623e-01],\n",
              "        [ 1.09602303e+00, -4.95379113e-01],\n",
              "        [ 7.61445958e-01,  6.48228395e-01],\n",
              "        [ 1.92691676e+00,  1.24732995e-01],\n",
              "        [-6.23489802e-01,  7.81831482e-01],\n",
              "        [ 3.27051370e-02,  2.46345416e-01],\n",
              "        [ 5.09442530e-02,  1.84891782e-01],\n",
              "        [-9.60230259e-02,  9.95379113e-01],\n",
              "        [ 1.40478334e+00, -4.14412623e-01],\n",
              "        [ 9.81559157e-01,  1.91158629e-01],\n",
              "        [ 8.01413622e-01,  5.98110530e-01],\n",
              "        [-1.00000000e+00,  1.22464680e-16],\n",
              "        [ 9.90311321e-02,  6.61162609e-02],\n",
              "        [-5.18392568e-01,  8.55142763e-01],\n",
              "        [ 1.15959990e+00, -4.87181783e-01],\n",
              "        [ 8.20998618e-03,  3.72122838e-01],\n",
              "        [ 0.00000000e+00,  5.00000000e-01],\n",
              "        [ 9.03976974e-01, -4.95379113e-01],\n",
              "        [-3.45365054e-01,  9.38468422e-01],\n",
              "        [ 9.97945393e-01,  6.40702200e-02],\n",
              "        [ 1.96729486e+00,  2.46345416e-01],\n",
              "        [-8.71318704e-01,  4.90717552e-01],\n",
              "        [-2.84527587e-01,  9.58667853e-01],\n",
              "        [ 6.72300890e-01,  7.40277997e-01],\n",
              "        [ 9.49055747e-01,  3.15108218e-01],\n",
              "        [-9.26916757e-01,  3.75267005e-01],\n",
              "        [-8.01413622e-01,  5.98110530e-01],\n",
              "        [-4.62538290e-01,  8.86599306e-01]]),\n",
              " array([0, 0, 0, 0, 1, 0, 1, 1, 1, 1, 0, 0, 0, 1, 0, 0, 1, 0, 1, 0, 1, 1,\n",
              "        1, 0, 0, 1, 0, 1, 0, 0, 1, 1, 1, 1, 1, 0, 0, 1, 1, 1, 1, 0, 0, 1,\n",
              "        0, 0, 1, 1, 1, 1, 1, 0, 1, 0, 1, 1, 1, 1, 0, 0, 1, 0, 0, 1, 0, 1,\n",
              "        1, 0, 0, 0, 1, 1, 0, 1, 0, 1, 0, 1, 1, 0, 1, 0, 0, 0, 1, 0, 1, 1,\n",
              "        1, 1, 0, 0, 1, 0, 0, 0, 0, 0, 0, 0]))"
            ]
          },
          "metadata": {
            "tags": []
          },
          "execution_count": 18
        }
      ]
    },
    {
      "cell_type": "code",
      "metadata": {
        "id": "EJ61PW_jkHQi"
      },
      "source": [
        "inputdata=pd.DataFrame(data=data_[0])"
      ],
      "execution_count": 19,
      "outputs": []
    },
    {
      "cell_type": "code",
      "metadata": {
        "colab": {
          "base_uri": "https://localhost:8080/",
          "height": 204
        },
        "id": "wkQ7rPwQkoGe",
        "outputId": "21440f67-a1ef-4546-9c02-009beb1a5e63"
      },
      "source": [
        "inputdata.head()"
      ],
      "execution_count": 20,
      "outputs": [
        {
          "output_type": "execute_result",
          "data": {
            "text/html": [
              "<div>\n",
              "<style scoped>\n",
              "    .dataframe tbody tr th:only-of-type {\n",
              "        vertical-align: middle;\n",
              "    }\n",
              "\n",
              "    .dataframe tbody tr th {\n",
              "        vertical-align: top;\n",
              "    }\n",
              "\n",
              "    .dataframe thead th {\n",
              "        text-align: right;\n",
              "    }\n",
              "</style>\n",
              "<table border=\"1\" class=\"dataframe\">\n",
              "  <thead>\n",
              "    <tr style=\"text-align: right;\">\n",
              "      <th></th>\n",
              "      <th>0</th>\n",
              "      <th>1</th>\n",
              "    </tr>\n",
              "  </thead>\n",
              "  <tbody>\n",
              "    <tr>\n",
              "      <th>0</th>\n",
              "      <td>-0.949056</td>\n",
              "      <td>0.315108</td>\n",
              "    </tr>\n",
              "    <tr>\n",
              "      <th>1</th>\n",
              "      <td>0.623490</td>\n",
              "      <td>0.781831</td>\n",
              "    </tr>\n",
              "    <tr>\n",
              "      <th>2</th>\n",
              "      <td>0.967295</td>\n",
              "      <td>0.253655</td>\n",
              "    </tr>\n",
              "    <tr>\n",
              "      <th>3</th>\n",
              "      <td>0.222521</td>\n",
              "      <td>0.974928</td>\n",
              "    </tr>\n",
              "    <tr>\n",
              "      <th>4</th>\n",
              "      <td>1.761446</td>\n",
              "      <td>-0.148228</td>\n",
              "    </tr>\n",
              "  </tbody>\n",
              "</table>\n",
              "</div>"
            ],
            "text/plain": [
              "          0         1\n",
              "0 -0.949056  0.315108\n",
              "1  0.623490  0.781831\n",
              "2  0.967295  0.253655\n",
              "3  0.222521  0.974928\n",
              "4  1.761446 -0.148228"
            ]
          },
          "metadata": {
            "tags": []
          },
          "execution_count": 20
        }
      ]
    },
    {
      "cell_type": "code",
      "metadata": {
        "colab": {
          "base_uri": "https://localhost:8080/",
          "height": 204
        },
        "id": "A2KhEJv1k2B1",
        "outputId": "81a5e8ab-8164-4759-f527-a09c699c6a56"
      },
      "source": [
        "\n",
        "# create output dataframe\n",
        "\n",
        "outputData = pd.DataFrame(data=data_[1])\n",
        "outputData.head()"
      ],
      "execution_count": 21,
      "outputs": [
        {
          "output_type": "execute_result",
          "data": {
            "text/html": [
              "<div>\n",
              "<style scoped>\n",
              "    .dataframe tbody tr th:only-of-type {\n",
              "        vertical-align: middle;\n",
              "    }\n",
              "\n",
              "    .dataframe tbody tr th {\n",
              "        vertical-align: top;\n",
              "    }\n",
              "\n",
              "    .dataframe thead th {\n",
              "        text-align: right;\n",
              "    }\n",
              "</style>\n",
              "<table border=\"1\" class=\"dataframe\">\n",
              "  <thead>\n",
              "    <tr style=\"text-align: right;\">\n",
              "      <th></th>\n",
              "      <th>0</th>\n",
              "    </tr>\n",
              "  </thead>\n",
              "  <tbody>\n",
              "    <tr>\n",
              "      <th>0</th>\n",
              "      <td>0</td>\n",
              "    </tr>\n",
              "    <tr>\n",
              "      <th>1</th>\n",
              "      <td>0</td>\n",
              "    </tr>\n",
              "    <tr>\n",
              "      <th>2</th>\n",
              "      <td>0</td>\n",
              "    </tr>\n",
              "    <tr>\n",
              "      <th>3</th>\n",
              "      <td>0</td>\n",
              "    </tr>\n",
              "    <tr>\n",
              "      <th>4</th>\n",
              "      <td>1</td>\n",
              "    </tr>\n",
              "  </tbody>\n",
              "</table>\n",
              "</div>"
            ],
            "text/plain": [
              "   0\n",
              "0  0\n",
              "1  0\n",
              "2  0\n",
              "3  0\n",
              "4  1"
            ]
          },
          "metadata": {
            "tags": []
          },
          "execution_count": 21
        }
      ]
    },
    {
      "cell_type": "code",
      "metadata": {
        "colab": {
          "base_uri": "https://localhost:8080/",
          "height": 282
        },
        "id": "RyVKzkFln0WZ",
        "outputId": "6541ee71-66b7-4eab-8d9b-ea69410a51ff"
      },
      "source": [
        "# create a scatter plot for inputData set\n",
        "plt.scatter(inputdata[0],inputdata[1])"
      ],
      "execution_count": 27,
      "outputs": [
        {
          "output_type": "execute_result",
          "data": {
            "text/plain": [
              "<matplotlib.collections.PathCollection at 0x7f2b45fdfc90>"
            ]
          },
          "metadata": {
            "tags": []
          },
          "execution_count": 27
        },
        {
          "output_type": "display_data",
          "data": {
            "image/png": "[encoded data removed]",
            "text/plain": [
              "<Figure size 432x288 with 1 Axes>"
            ]
          },
          "metadata": {
            "tags": [],
            "needs_background": "light"
          }
        }
      ]
    },
    {
      "cell_type": "code",
      "metadata": {
        "colab": {
          "base_uri": "https://localhost:8080/",
          "height": 282
        },
        "id": "dKc8yKyklrh_",
        "outputId": "a4a2a7d1-2309-469a-a5dc-2a5704365eb8"
      },
      "source": [
        "\n",
        "# create a scatter plot for inputData set with outputData color\n",
        "plt.scatter(inputdata[0],inputdata[1],c=outputData)"
      ],
      "execution_count": 22,
      "outputs": [
        {
          "output_type": "execute_result",
          "data": {
            "text/plain": [
              "<matplotlib.collections.PathCollection at 0x7f2b46aa9b10>"
            ]
          },
          "metadata": {
            "tags": []
          },
          "execution_count": 22
        },
        {
          "output_type": "display_data",
          "data": {
            "image/png": "[encoded data removed]",
            "text/plain": [
              "<Figure size 432x288 with 1 Axes>"
            ]
          },
          "metadata": {
            "tags": [],
            "needs_background": "light"
          }
        }
      ]
    },
    {
      "cell_type": "code",
      "metadata": {
        "id": "wp2hRg2YnMlK"
      },
      "source": [
        ""
      ],
      "execution_count": null,
      "outputs": []
    },
    {
      "cell_type": "code",
      "metadata": {
        "colab": {
          "base_uri": "https://localhost:8080/"
        },
        "id": "Dyl2EJxanfKj",
        "outputId": "e0d857e8-d1dd-4f5c-97f4-983472577b18"
      },
      "source": [
        "# Call the sklearn Kmeans and make a model with 200 samples\n",
        "\n",
        "\n",
        "#model_fit\n",
        "from sklearn.cluster import KMeans\n",
        "model=KMeans(n_clusters=5)\n",
        "model.fit(inputdata)"
      ],
      "execution_count": 33,
      "outputs": [
        {
          "output_type": "execute_result",
          "data": {
            "text/plain": [
              "KMeans(algorithm='auto', copy_x=True, init='k-means++', max_iter=300,\n",
              "       n_clusters=5, n_init=10, n_jobs=None, precompute_distances='auto',\n",
              "       random_state=None, tol=0.0001, verbose=0)"
            ]
          },
          "metadata": {
            "tags": []
          },
          "execution_count": 33
        }
      ]
    },
    {
      "cell_type": "code",
      "metadata": {
        "colab": {
          "base_uri": "https://localhost:8080/"
        },
        "id": "ObAnAdLVpK1i",
        "outputId": "d1fb7672-8485-4fbb-aef5-c3ee1593b7ac"
      },
      "source": [
        "model.labels_"
      ],
      "execution_count": 34,
      "outputs": [
        {
          "output_type": "execute_result",
          "data": {
            "text/plain": [
              "array([2, 0, 3, 0, 1, 0, 1, 1, 4, 3, 0, 3, 0, 1, 2, 2, 1, 2, 3, 3, 4, 1,\n",
              "       3, 0, 2, 3, 0, 4, 2, 2, 3, 4, 1, 3, 3, 0, 2, 1, 4, 1, 4, 0, 0, 4,\n",
              "       0, 0, 3, 4, 1, 3, 1, 0, 3, 0, 3, 1, 1, 1, 0, 2, 3, 0, 2, 1, 2, 4,\n",
              "       3, 2, 0, 2, 4, 4, 0, 3, 0, 1, 2, 4, 4, 0, 3, 3, 0, 2, 4, 2, 3, 4,\n",
              "       4, 3, 2, 3, 1, 2, 2, 0, 3, 2, 2, 2], dtype=int32)"
            ]
          },
          "metadata": {
            "tags": []
          },
          "execution_count": 34
        }
      ]
    },
    {
      "cell_type": "code",
      "metadata": {
        "id": "WpRekv99pREO"
      },
      "source": [
        "from sklearn import metrics"
      ],
      "execution_count": 35,
      "outputs": []
    },
    {
      "cell_type": "code",
      "metadata": {
        "colab": {
          "base_uri": "https://localhost:8080/"
        },
        "id": "elFMqSlwporz",
        "outputId": "dea97023-d121-4484-a1bc-f2bdcf16f387"
      },
      "source": [
        "metrics.silhouette_score(inputdata,model.labels_)"
      ],
      "execution_count": 36,
      "outputs": [
        {
          "output_type": "execute_result",
          "data": {
            "text/plain": [
              "0.47385281527696094"
            ]
          },
          "metadata": {
            "tags": []
          },
          "execution_count": 36
        }
      ]
    },
    {
      "cell_type": "code",
      "metadata": {
        "colab": {
          "base_uri": "https://localhost:8080/",
          "height": 282
        },
        "id": "TvtS9UvtqK-E",
        "outputId": "d407aa4c-bc5f-45eb-c463-2212c7156365"
      },
      "source": [
        "plt.scatter(inputdata[0],inputdata[1],c=model.labels_)"
      ],
      "execution_count": 38,
      "outputs": [
        {
          "output_type": "execute_result",
          "data": {
            "text/plain": [
              "<matplotlib.collections.PathCollection at 0x7f2b39393f10>"
            ]
          },
          "metadata": {
            "tags": []
          },
          "execution_count": 38
        },
        {
          "output_type": "display_data",
          "data": {
            "image/png": "[encoded data removed]",
            "text/plain": [
              "<Figure size 432x288 with 1 Axes>"
            ]
          },
          "metadata": {
            "tags": [],
            "needs_background": "light"
          }
        }
      ]
    },
    {
      "cell_type": "code",
      "metadata": {
        "id": "ny6KWDKPq23r"
      },
      "source": [
        "\n",
        "cluster_range = range(1, 20)\n",
        "error_list = []\n",
        "\n",
        "for i in cluster_range:\n",
        "    model = KMeans(n_clusters=i)\n",
        "    model.fit(inputdata)\n",
        "    res = model.inertia_\n",
        "    error_list.append(res)"
      ],
      "execution_count": 40,
      "outputs": []
    },
    {
      "cell_type": "code",
      "metadata": {
        "colab": {
          "base_uri": "https://localhost:8080/",
          "height": 295
        },
        "id": "fLmdKnpjrAwV",
        "outputId": "883241f5-5220-4f98-be44-59ee7ac02524"
      },
      "source": [
        "import matplotlib.pyplot as plt\n",
        "\n",
        "plt.plot(cluster_range, error_list, marker = \"o\", color = \"g\", markersize = 10)\n",
        "plt.xlabel(\"Cluster Range\")\n",
        "plt.ylabel(\"IntraCluster Sum\")\n",
        "plt.title(\"KMeans\")\n",
        "plt.show()"
      ],
      "execution_count": 41,
      "outputs": [
        {
          "output_type": "display_data",
          "data": {
            "image/png": "[encoded data removed]",
            "text/plain": [
              "<Figure size 432x288 with 1 Axes>"
            ]
          },
          "metadata": {
            "tags": [],
            "needs_background": "light"
          }
        }
      ]
    }
  ]
}